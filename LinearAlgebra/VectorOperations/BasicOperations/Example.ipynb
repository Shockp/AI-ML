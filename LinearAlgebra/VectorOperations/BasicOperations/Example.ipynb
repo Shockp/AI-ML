{
 "cells": [
  {
   "cell_type": "code",
   "execution_count": 1,
   "metadata": {},
   "outputs": [
    {
     "name": "stdout",
     "output_type": "stream",
     "text": [
      "Vector sum: [4 6]\n",
      "Scalar multiplication: [6 8]\n",
      "Dot product: 11\n",
      "Vector magnitude: 5.0\n"
     ]
    }
   ],
   "source": [
    "import numpy as np\n",
    "\n",
    "# Define vectors\n",
    "u = np.array([1, 2])\n",
    "v = np.array([3, 4])\n",
    "\n",
    "# Operations\n",
    "vector_sum = u + v\n",
    "scalar_multiplication = 2 * v\n",
    "dot_product = np.dot(u, v)\n",
    "vector_norm = np.linalg.norm(v)\n",
    "\n",
    "# Printing the results\n",
    "print(f\"Vector sum: {vector_sum}\")\n",
    "print(f\"Scalar multiplication: {scalar_multiplication}\")\n",
    "print(f\"Dot product: {dot_product}\")\n",
    "print(f\"Vector magnitude: {vector_norm}\")"
   ]
  }
 ],
 "metadata": {
  "kernelspec": {
   "display_name": "base",
   "language": "python",
   "name": "python3"
  },
  "language_info": {
   "codemirror_mode": {
    "name": "ipython",
    "version": 3
   },
   "file_extension": ".py",
   "mimetype": "text/x-python",
   "name": "python",
   "nbconvert_exporter": "python",
   "pygments_lexer": "ipython3",
   "version": "3.12.7"
  }
 },
 "nbformat": 4,
 "nbformat_minor": 2
}
