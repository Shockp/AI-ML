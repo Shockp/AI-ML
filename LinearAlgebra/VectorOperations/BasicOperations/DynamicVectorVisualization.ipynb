{
 "cells": [
  {
   "cell_type": "markdown",
   "metadata": {},
   "source": [
    "#### **Mini-Project: Visualizing Vector Operations**\n",
    "\n",
    "##### **Objective**\n",
    "Create a Python program that:\n",
    "1. Takes two vectors as input from the user.\n",
    "2. Performs operations such as:\n",
    "   - Addition ($\\mathbf{u} + \\mathbf{v}$)\n",
    "   - Subtraction ($\\mathbf{u} - \\mathbf{v}$)\n",
    "   - Scalar multiplication ($c\\mathbf{u}$)\n",
    "   - Dot product ($\\mathbf{u} \\cdot \\mathbf{v}$)\n",
    "3. Visualizes the original vectors and the results of these operations on a 2D plane.\n",
    "4. Dynamically adjusts the axis scaling based on the input vectors.\n",
    "5. Saves the final visualization as an image file for future reference."
   ]
  },
  {
   "cell_type": "markdown",
   "metadata": {},
   "source": [
    "##### **Steps to Build**\n",
    "1. **Input Collection**:\n",
    "   - Accept vector inputs $\\mathbf{u}$ and $\\mathbf{v}$.\n",
    "   - Accept a scalar value for multiplication.\n",
    "\n",
    "2. **Perform Operations**:\n",
    "   - Addition: $\\mathbf{u} + \\mathbf{v}$\n",
    "   - Subtraction: $\\mathbf{u} - \\mathbf{v}$\n",
    "   - Scalar Multiplication: $c\\mathbf{u}$\n",
    "   - Dot Product: $\\mathbf{u} \\cdot \\mathbf{v}$\n",
    "\n",
    "3. **Visualization**:\n",
    "   - Plot the original vectors $\\mathbf{u}$ and $\\mathbf{v}$.\n",
    "   - Plot their sum $\\mathbf{u} + \\mathbf{v}$, difference $\\mathbf{u} - \\mathbf{v}$, and scalar multiplication $c\\mathbf{u}$.\n",
    "   - Label each vector and ensure the axis scales dynamically.\n",
    "   - Annotate the origin and other key points for clarity.\n",
    "\n",
    "4. **Save the Plot**:\n",
    "   - Export the plot as an image file (e.g., `vector_visualization.png`)."
   ]
  },
  {
   "cell_type": "markdown",
   "metadata": {},
   "source": [
    "##### **Expected Output**\n",
    "\n",
    "1. **Console Output**\n",
    "- The program will display:\n",
    "  - The computed dot product of the vectors: $\\mathbf{u} \\cdot \\mathbf{v}$.\n",
    "  - A confirmation message: `\"Plot saved as 'vector_visualization.png'.\"`\n",
    "\n",
    "2. **Plot Features**\n",
    "- A 2D plot with:\n",
    "  - **Red Arrow**: Vector $\\mathbf{u}$.\n",
    "  - **Blue Arrow**: Vector $\\mathbf{v}$.\n",
    "  - **Green Arrow**: Sum of the vectors, $\\mathbf{u} + \\mathbf{v}$.\n",
    "  - **Magenta Arrow**: Difference of the vectors, $\\mathbf{u} - \\mathbf{v}$.\n",
    "  - **Yellow Arrow**: Scalar multiplication, $c\\mathbf{u}$.\n",
    "\n",
    "- The plot includes:\n",
    "  - Annotations for the \"Origin\".\n",
    "  - Automatically scaled axes to fit all vectors.\n",
    "  - A grid for better readability.\n",
    "  - A legend labeling all vectors.\n",
    "\n",
    "3. **Saved Plot**\n",
    "- The generated plot will be saved in the current working directory as an image file named: `vector_visualization.png`"
   ]
  },
  {
   "cell_type": "code",
   "execution_count": null,
   "metadata": {
    "vscode": {
     "languageId": "plaintext"
    }
   },
   "outputs": [],
   "source": []
  }
 ],
 "metadata": {
  "kernelspec": {
   "display_name": "base",
   "language": "python",
   "name": "python3"
  },
  "language_info": {
   "codemirror_mode": {
    "name": "ipython",
    "version": 3
   },
   "file_extension": ".py",
   "mimetype": "text/x-python",
   "name": "python",
   "nbconvert_exporter": "python",
   "pygments_lexer": "ipython3",
   "version": "3.12.7"
  }
 },
 "nbformat": 4,
 "nbformat_minor": 2
}
