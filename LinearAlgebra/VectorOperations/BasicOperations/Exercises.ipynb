{
 "cells": [
  {
   "cell_type": "markdown",
   "metadata": {},
   "source": [
    "## **Exercise 1: Vector Operations**\n",
    "1. Compute the following manually:\n",
    "   - \\( \\mathbf{u} = [2, -1], \\mathbf{v} = [3, 4] \\)\n",
    "     1. \\( \\mathbf{u} + \\mathbf{v} \\)\n",
    "     2. \\( 3\\mathbf{u} \\)\n",
    "     3. \\( \\mathbf{u} \\cdot \\mathbf{v} \\)\n",
    "     4. \\( ||\\mathbf{v}|| \\)"
   ]
  },
  {
   "cell_type": "code",
   "execution_count": 1,
   "metadata": {},
   "outputs": [
    {
     "name": "stdout",
     "output_type": "stream",
     "text": [
      "[5 3]\n",
      "[ 6 -3]\n",
      "2\n",
      "5.0\n"
     ]
    }
   ],
   "source": [
    "import numpy as np\n",
    "\n",
    "# Define the vectors\n",
    "u = np.array([2, -1])\n",
    "v = np.array([3, 4])\n",
    "\n",
    "# Exercises\n",
    "vector_sum = u + v\n",
    "scalar_mult = 3 * u\n",
    "dot_product = np.dot(u, v)\n",
    "magnitude_v = np.linalg.norm(v)\n",
    "\n",
    "# Print the results\n",
    "print(vector_sum)\n",
    "print(scalar_mult)\n",
    "print(dot_product)\n",
    "print(magnitude_v)"
   ]
  },
  {
   "cell_type": "code",
   "execution_count": null,
   "metadata": {},
   "outputs": [],
   "source": [
    "#### Exercise 2: Vector Relations\n",
    "##### Given ``a = [1, 0]`` and ``b = [0, 1]``, compute the angle between the two vectors using:\n",
    "- cos "
   ]
  }
 ],
 "metadata": {
  "kernelspec": {
   "display_name": "base",
   "language": "python",
   "name": "python3"
  },
  "language_info": {
   "codemirror_mode": {
    "name": "ipython",
    "version": 3
   },
   "file_extension": ".py",
   "mimetype": "text/x-python",
   "name": "python",
   "nbconvert_exporter": "python",
   "pygments_lexer": "ipython3",
   "version": "3.12.7"
  }
 },
 "nbformat": 4,
 "nbformat_minor": 2
}
