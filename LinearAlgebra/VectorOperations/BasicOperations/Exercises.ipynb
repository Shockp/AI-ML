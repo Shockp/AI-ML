{
 "cells": [
  {
   "cell_type": "markdown",
   "metadata": {},
   "source": [
    "#### **Exercise 1: Vector Operations**\n",
    "##### Compute the following operations:\n",
    "   - $\\mathbf{u} = [2, -1], \\mathbf{v} = [3, 4]$\n",
    "     1. $\\mathbf{u} + \\mathbf{v}$\n",
    "     2. $3\\mathbf{u}$\n",
    "     3. $\\mathbf{u} \\cdot \\mathbf{v}$\n",
    "     4. $||\\mathbf{v}||$"
   ]
  },
  {
   "cell_type": "code",
   "execution_count": 1,
   "metadata": {},
   "outputs": [
    {
     "name": "stdout",
     "output_type": "stream",
     "text": [
      "u + v = [5 3]\n",
      "3u = [ 6 -3]\n",
      "u . v = 2\n",
      "Magnitude of v = 5.0\n"
     ]
    }
   ],
   "source": [
    "import numpy as np\n",
    "\n",
    "# Define the vectors\n",
    "u = np.array([2, -1])\n",
    "v = np.array([3, 4])\n",
    "\n",
    "# Exercises\n",
    "vector_sum = u + v\n",
    "scalar_mult = 3 * u\n",
    "dot_product = np.dot(u, v)\n",
    "magnitude_v = np.linalg.norm(v)\n",
    "\n",
    "# Print the results\n",
    "print(f\"u + v = {vector_sum}\")\n",
    "print(f\"3u = {scalar_mult}\")\n",
    "print(f\"u . v = {dot_product}\")\n",
    "print(f\"Magnitude of v = {magnitude_v}\")"
   ]
  },
  {
   "cell_type": "markdown",
   "metadata": {},
   "source": [
    "#### **Exercise 2: Vector Relations**\n",
    "##### 1. Given $\\mathbf{a} = [1, 0]$ and $\\mathbf{b} = [0, 1]$, compute the angle between the two vectors using:\n",
    "   - $\\cos \\theta = \\frac{\\mathbf{a} \\cdot \\mathbf{b}}{||\\mathbf{a}|| \\, ||\\mathbf{b}||}$."
   ]
  },
  {
   "cell_type": "code",
   "execution_count": 2,
   "metadata": {},
   "outputs": [
    {
     "name": "stdout",
     "output_type": "stream",
     "text": [
      "Dot product = 0\n",
      "Magnitude of a = 1.0\n",
      "Magnitude of b = 1.0\n",
      "Cosine of the angle = 0.0\n",
      "Angle between a and b in degrees = 90.0\n"
     ]
    }
   ],
   "source": [
    "# Define the vectors\n",
    "a, b = np.array([1,0]), np.array([0, 1])\n",
    "\n",
    "# Solve the exercise\n",
    "dot_product = np.dot(a, b)\n",
    "magnitude_a = np.linalg.norm(a)\n",
    "magnitue_b = np.linalg.norm(b)\n",
    "\n",
    "cos_angle = dot_product / (magnitude_a * magnitue_b)\n",
    "angle_between_ab = np.degrees(np.arccos(cos_angle))\n",
    "\n",
    "# Print the results\n",
    "print(f\"Dot product = {dot_product}\")\n",
    "print(f\"Magnitude of a = {magnitude_a}\")\n",
    "print(f\"Magnitude of b = {magnitue_b}\")\n",
    "print(f\"Cosine of the angle = {cos_angle}\")\n",
    "print(f\"Angle between a and b in degrees = {angle_between_ab}\")"
   ]
  },
  {
   "cell_type": "markdown",
   "metadata": {},
   "source": [
    "#### **Exercise 3: Geometry of Vectors**\n",
    "##### 1. Plot the following vectors on a 2D plane:\n",
    "   - $\\mathbf{u} = [1, 2]$, $\\mathbf{v} = [2, -1]$, and their sum $\\mathbf{u} + \\mathbf{v}$.\n",
    "##### 2. Label the vectors and visualize their geometric relationship."
   ]
  },
  {
   "cell_type": "code",
   "execution_count": null,
   "metadata": {},
   "outputs": [],
   "source": []
  },
  {
   "cell_type": "markdown",
   "metadata": {},
   "source": [
    "#### **Exercise 4: Application Problem**\n",
    "##### 1. A person walks 3 meters east and 4 meters north. Represent this motion as a vector $\\mathbf{w}$, and calculate:\n",
    "   - The total distance covered.\n",
    "   - The displacement from the starting point."
   ]
  },
  {
   "cell_type": "code",
   "execution_count": null,
   "metadata": {},
   "outputs": [],
   "source": []
  }
 ],
 "metadata": {
  "kernelspec": {
   "display_name": "base",
   "language": "python",
   "name": "python3"
  },
  "language_info": {
   "codemirror_mode": {
    "name": "ipython",
    "version": 3
   },
   "file_extension": ".py",
   "mimetype": "text/x-python",
   "name": "python",
   "nbconvert_exporter": "python",
   "pygments_lexer": "ipython3",
   "version": "3.12.7"
  }
 },
 "nbformat": 4,
 "nbformat_minor": 2
}
