{
 "cells": [
  {
   "cell_type": "markdown",
   "metadata": {},
   "source": [
    "#### **Mini-Project: Array Operations Summary**\n",
    "##### **Objectives**\n",
    "1. Create and analyze arrays.\n",
    "2. Perform mathematical operations and summarize results.\n",
    "3. Demonstrate visualization of array-related insights."
   ]
  },
  {
   "cell_type": "markdown",
   "metadata": {},
   "source": [
    "##### **Task Details**\n",
    "1. Array Creation\n",
    "    - Create a 5x5 array of random integers between 1 and 100.\n",
    "    - Hint: Use np.random.randint.\n",
    "\n",
    "2. Mathematical Operations\n",
    "    - Compute:\n",
    "        - Row-wise sums.\n",
    "        - Column-wise sums.\n",
    "        - The maximum and minimum values in the array.\n",
    "    - Hint: Use np.sum(axis=), np.max, and np.min.\n",
    "\n",
    "3. Results Visualization\n",
    "    - Print the results of your calculations.\n",
    "    - Create a visualization (e.g., bar plot) showing:\n",
    "        - Row-wise sums.\n",
    "        - Column-wise sums.\n",
    "    - Hint: Use Matplotlib to create plots."
   ]
  },
  {
   "cell_type": "markdown",
   "metadata": {},
   "source": [
    "##### **Expected Output**\n",
    "1. The generated 5x5 array.\n",
    "2. Numerical results of all calculations.\n",
    "3. A bar chart for row-wise and column-wise sums."
   ]
  },
  {
   "cell_type": "code",
   "execution_count": null,
   "metadata": {
    "vscode": {
     "languageId": "plaintext"
    }
   },
   "outputs": [],
   "source": []
  }
 ],
 "metadata": {
  "language_info": {
   "name": "python"
  }
 },
 "nbformat": 4,
 "nbformat_minor": 2
}
