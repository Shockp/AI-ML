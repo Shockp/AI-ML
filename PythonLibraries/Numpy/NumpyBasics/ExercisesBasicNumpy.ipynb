{
 "cells": [
  {
   "cell_type": "markdown",
   "metadata": {},
   "source": [
    "**Task 1: Create and Explore Arrays**\n",
    "1. Create a 1D array of 10 equally spaced numbers between 0 and 50.\n",
    "    - Hint: Use np.linspace.\n",
    "2. Create a 2D array (3x3) of random integers between 1 and 20.\n",
    "    - Hint: Use np.random.randint.\n",
    "3. Print the attributes (shape, size, dtype, and ndim) of each array."
   ]
  },
  {
   "cell_type": "code",
   "execution_count": 1,
   "metadata": {},
   "outputs": [
    {
     "name": "stdout",
     "output_type": "stream",
     "text": [
      "Shape of the 1D array: (10,)\n",
      "Size of the 1D array: 10\n",
      "Dtype of the 1D array: float64\n",
      "Ndim of the 1D array: 1\n",
      "\n",
      "Shape of the 2D array: (3, 3)\n",
      "Size of the 2D array: 9\n",
      "Dtype of the 2D array: int32\n",
      "Ndim of the 2D array: 2\n"
     ]
    }
   ],
   "source": [
    "import numpy as np\n",
    "\n",
    "# 1. Create a 1D array of 10 equally spaced numbers between 0 and 50\n",
    "array_1d = np.linspace(0, 50, 10)\n",
    "\n",
    "# 2. Create a 2D array (3x3) of random integers between 1 and 20\n",
    "array_2d = np.random.randint(1, 20, (3, 3))\n",
    "\n",
    "# 3. Print the attributes (shape, size, dtype and ndim) of each array\n",
    "\n",
    "# 1D array attributes\n",
    "print(f\"Shape of the 1D array: {array_1d.shape}\")\n",
    "print(f\"Size of the 1D array: {array_1d.size}\")\n",
    "print(f\"Dtype of the 1D array: {array_1d.dtype}\")\n",
    "print(f\"Ndim of the 1D array: {array_1d.ndim}\")\n",
    "print(\"\")\n",
    "\n",
    "# 2D array attributes\n",
    "print(f\"Shape of the 2D array: {array_2d.shape}\")\n",
    "print(f\"Size of the 2D array: {array_2d.size}\")\n",
    "print(f\"Dtype of the 2D array: {array_2d.dtype}\")\n",
    "print(f\"Ndim of the 2D array: {array_2d.ndim}\")"
   ]
  },
  {
   "cell_type": "markdown",
   "metadata": {},
   "source": [
    "**Task 2: Perform Array Operations**\n",
    "1. Create two arrays:\n",
    "    - a = [1, 2, 3] and b = [4, 5, 6].\n",
    "2. Perform the following operations:\n",
    "    - Element-wise addition, subtraction, multiplication, and division.\n",
    "    - Apply np.sqrt and np.exp to array a."
   ]
  },
  {
   "cell_type": "code",
   "execution_count": 2,
   "metadata": {},
   "outputs": [
    {
     "name": "stdout",
     "output_type": "stream",
     "text": [
      "a + b = [5 7 9]\n",
      "\n",
      "a - b = [-3 -3 -3]\n",
      "\n",
      "a * b = [ 4 10 18]\n",
      "\n",
      "a / b = [0.25 0.4  0.5 ]\n",
      "\n",
      "Square root of a = [1.         1.41421356 1.73205081]\n",
      "\n",
      "Exponential (e^x) of a = [ 2.71828183  7.3890561  20.08553692]\n"
     ]
    }
   ],
   "source": [
    "import numpy as np\n",
    "\n",
    "# 1. Create the arrays\n",
    "a = np.array([1, 2, 3])\n",
    "b = np.array([4, 5, 6])\n",
    "\n",
    "# 2. Operations\n",
    "print(f\"a + b = {a + b}\")\n",
    "print(f\"\\na - b = {a - b}\")\n",
    "print(f\"\\na * b = {a * b}\")\n",
    "print(f\"\\na / b = {a / b}\")\n",
    "print(f\"\\nSquare root of a = {np.sqrt(a)}\")\n",
    "print(f\"\\nExponential (e^x) of a = {np.exp(a)}\")"
   ]
  },
  {
   "cell_type": "markdown",
   "metadata": {},
   "source": [
    "**Task 3: Indexing and Slicing**\n",
    "1. Create a 4x4 matrix with values from 1 to 16.\n",
    "    - Hint: Use np.arange and reshape.\n",
    "2. Extract:\n",
    "    - The first row.\n",
    "    - The last column.\n",
    "    - A 2x2 subarray from the top-left corner.\n",
    "3. Modify the second row to [99, 99, 99, 99]."
   ]
  },
  {
   "cell_type": "code",
   "execution_count": 3,
   "metadata": {},
   "outputs": [
    {
     "name": "stdout",
     "output_type": "stream",
     "text": [
      "Matrix 4x4 created:\n",
      "[[ 1  2  3  4]\n",
      " [ 5  6  7  8]\n",
      " [ 9 10 11 12]\n",
      " [13 14 15 16]]\n",
      "\n",
      "First row: [1 2 3 4]\n",
      "\n",
      "last_column: [ 4  8 12 16]\n",
      "\n",
      "2x2 subarray top-left corner:\n",
      "[[1 2]\n",
      " [5 6]]\n",
      "\n",
      "Matrix 4x4 modified:\n",
      "[[ 1  2  3  4]\n",
      " [99 99 99 99]\n",
      " [ 9 10 11 12]\n",
      " [13 14 15 16]]\n"
     ]
    }
   ],
   "source": [
    "import numpy as np\n",
    "\n",
    "# 1. Create a 4x4 matrix with values from 1 to 16\n",
    "matrix = np.arange(1, 17).reshape(4, 4)\n",
    "print(f\"Matrix 4x4 created:\\n{matrix}\")\n",
    "# 2. Extract\n",
    "first_row = matrix[0]\n",
    "print(f\"\\nFirst row: {first_row}\")\n",
    "\n",
    "last_column = matrix[:, -1]\n",
    "print(f\"\\nlast_column: {last_column}\")\n",
    "\n",
    "subarray_top_left = matrix[:2, :2]\n",
    "print(f\"\\n2x2 subarray top-left corner:\\n{subarray_top_left}\")\n",
    "\n",
    "# 4. Modify the second row to [99, 99, 99, 99]\n",
    "matrix[1, :] = 99\n",
    "print(f\"\\nMatrix 4x4 modified:\\n{matrix}\")"
   ]
  },
  {
   "cell_type": "markdown",
   "metadata": {},
   "source": [
    "**Task 4: Broadcasting**\n",
    "1. Create a 1D array x = [1, 2, 3] and a 2D array y = [[4], [5], [6]].\n",
    "2. Perform addition between x and y using broadcasting.\n",
    "3. Verify the result's shape and contents."
   ]
  },
  {
   "cell_type": "code",
   "execution_count": 4,
   "metadata": {},
   "outputs": [
    {
     "name": "stdout",
     "output_type": "stream",
     "text": [
      "X =\n",
      "[1 2 3]\n",
      "\n",
      "Y =\n",
      "[[4]\n",
      " [5]\n",
      " [6]]\n",
      "\n",
      "X + Y =\n",
      "[[5 6 7]\n",
      " [6 7 8]\n",
      " [7 8 9]]\n",
      "\n",
      "X shape: (3,)\n",
      "Y shape: (3, 1)\n",
      "X + Y shape: (3, 3)\n"
     ]
    }
   ],
   "source": [
    "import numpy as np\n",
    "\n",
    "# 1. Create the arrays\n",
    "x = np.array([1, 2, 3])\n",
    "print(f\"X =\\n{x}\")\n",
    "\n",
    "y = np.array([[4], [5], [6]])\n",
    "print(f\"\\nY =\\n{y}\")\n",
    "\n",
    "# 2. X + Y using broadcasting\n",
    "addition = x + y\n",
    "print(f\"\\nX + Y =\\n{addition}\")\n",
    "\n",
    "# 3. Showing the shapes\n",
    "print(f\"\\nX shape: {x.shape}\")\n",
    "print(f\"Y shape: {y.shape}\")\n",
    "print(f\"X + Y shape: {addition.shape}\")"
   ]
  },
  {
   "cell_type": "markdown",
   "metadata": {},
   "source": [
    "**Task 5: Reshaping and Combining**\n",
    "1. Create a 1D array of numbers from 1 to 12.\n",
    "2. Reshape it into a 3x4 matrix.\n",
    "3. Flatten the matrix back into a 1D array.\n",
    "4. Stack two 2D arrays (of shape 2x3) vertically and horizontally."
   ]
  },
  {
   "cell_type": "code",
   "execution_count": 5,
   "metadata": {},
   "outputs": [
    {
     "name": "stdout",
     "output_type": "stream",
     "text": [
      "1D array:\n",
      "[ 1  2  3  4  5  6  7  8  9 10 11 12]\n",
      "\n",
      "3x4 matrix:\n",
      "[[ 1  2  3  4]\n",
      " [ 5  6  7  8]\n",
      " [ 9 10 11 12]]\n",
      "\n",
      "Flattened array:\n",
      "[ 1  2  3  4  5  6  7  8  9 10 11 12]\n",
      "\n",
      "\n",
      "Array 1 (2x3):\n",
      "[[16 12 11]\n",
      " [ 3 14  5]]\n",
      "\n",
      "Array 2 (2x3):\n",
      "[[ 5 10  3]\n",
      " [ 3 15 13]]\n",
      "\n",
      "Vertical stack:\n",
      "[[16 12 11]\n",
      " [ 3 14  5]\n",
      " [ 5 10  3]\n",
      " [ 3 15 13]]\n",
      "\n",
      "Horizontal stack:\n",
      "[[16 12 11  5 10  3]\n",
      " [ 3 14  5  3 15 13]]\n"
     ]
    }
   ],
   "source": [
    "import numpy as np\n",
    "\n",
    "# 1. Create a 1D array of numbers from 1 to 12\n",
    "array_1d = np.arange(1, 13)\n",
    "print(f\"1D array:\\n{array_1d}\")\n",
    "\n",
    "# 2. Reshape to 3x4 matrix\n",
    "matrix_3x4 = array_1d.reshape(3, 4)\n",
    "print(f\"\\n3x4 matrix:\\n{matrix_3x4}\")\n",
    "\n",
    "# 3. Back to 1D array\n",
    "flatten_array = matrix_3x4.flatten()\n",
    "print(f\"\\nFlattened array:\\n{flatten_array}\")\n",
    "\n",
    "# 4. Stack two 2D arrays (2x3) vertically and horizontally\n",
    "array1_2x3 = np.random.randint(0, 20, (2, 3))\n",
    "print(f\"\\n\\nArray 1 (2x3):\\n{array1_2x3}\")\n",
    "array2_2x3 = np.random.randint(0, 20, (2, 3))\n",
    "print(f\"\\nArray 2 (2x3):\\n{array2_2x3}\")\n",
    "\n",
    "vertical_stack = np.vstack((array1_2x3, array2_2x3))\n",
    "print(f\"\\nVertical stack:\\n{vertical_stack}\")\n",
    "horizontal_stack = np.hstack((array1_2x3, array2_2x3))\n",
    "print(f\"\\nHorizontal stack:\\n{horizontal_stack}\")"
   ]
  }
 ],
 "metadata": {
  "kernelspec": {
   "display_name": "base",
   "language": "python",
   "name": "python3"
  },
  "language_info": {
   "codemirror_mode": {
    "name": "ipython",
    "version": 3
   },
   "file_extension": ".py",
   "mimetype": "text/x-python",
   "name": "python",
   "nbconvert_exporter": "python",
   "pygments_lexer": "ipython3",
   "version": "3.12.7"
  }
 },
 "nbformat": 4,
 "nbformat_minor": 2
}
