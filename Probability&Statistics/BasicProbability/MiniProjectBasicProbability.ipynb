{
 "cells": [
  {
   "cell_type": "markdown",
   "metadata": {},
   "source": [
    "#### **Mini-Project: Porbability-Based Dice Game Simulator**\n",
    "##### **Project Objective:**\n",
    "Create a Python program that simulates a dice-based game. The goal is to:\n",
    "\n",
    "1. Simulate multiple rounds of a game where two players roll a die.\n",
    "2. Track and calculate probabilities for different events:\n",
    "    - A player rolls a number greater than 4.\n",
    "    - Both players roll the same number.\n",
    "    - A player wins a round by rolling a higher number than the other.\n",
    "3. Display results and probabilities visually."
   ]
  },
  {
   "cell_type": "markdown",
   "metadata": {},
   "source": [
    "##### **Steps to Implement:**\n",
    "1. Game Rules:\n",
    "    - Two players take turns rolling a 6-sided die.\n",
    "    - The player with the higher roll wins the round.\n",
    "    - If both roll the same number, it's a tie.\n",
    "\n",
    "2. Simulated Events:\n",
    "    - Number of rounds where Player 1 rolls a number > 4.\n",
    "    - Number of rounds where Player 2 rolls a number > 4.\n",
    "    - Number of ties.\n",
    "    - Player 1 wins, Player 2 wins, and the probability of each.\n",
    "\n",
    "3. Output:\n",
    "    - Display probabilities for all events.\n",
    "    - Show a bar chart comparing the frequencies of Player 1 wins, Player 2 wins, and ties."
   ]
  },
  {
   "cell_type": "code",
   "execution_count": 1,
   "metadata": {},
   "outputs": [
    {
     "name": "stdout",
     "output_type": "stream",
     "text": [
      "Results after 1000 games: \n",
      "Player 1 rolls greater than 4: 0.324 EXPECTED -> 0.333\n",
      "Player 2 rolls greater than 4: 0.342 EXPECTED -> 0.333\n",
      "Player 1 wins: 0.407 EXPECTED -> 0.417\n",
      "Player 2 wins: 0.432 EXPECTED -> 0.417\n",
      "Ties: 0.161 EXPECTED -> 0.167\n"
     ]
    },
    {
     "data": {
      "image/png": "[encoded data removed]",
      "text/plain": [
       "<Figure size 640x480 with 1 Axes>"
      ]
     },
     "metadata": {},
     "output_type": "display_data"
    }
   ],
   "source": [
    "import random\n",
    "import matplotlib.pyplot as plt\n",
    "\n",
    "def dice_game(n: int) -> None:\n",
    "    # Save the counts\n",
    "    player1_greater4 = 0\n",
    "    player2_greater4 = 0\n",
    "    player1_wins = 0\n",
    "    player2_wins = 0\n",
    "    ties = 0\n",
    "    \n",
    "    for _ in range(n):\n",
    "        player1_roll = random.randint(1, 6)\n",
    "        player2_roll = random.randint(1, 6)\n",
    "        \n",
    "        # Tracking greater 4 rolls\n",
    "        if player1_roll > 4:\n",
    "            player1_greater4 += 1\n",
    "        if player2_roll > 4:\n",
    "            player2_greater4 += 1\n",
    "        \n",
    "        # Tracking the round winner\n",
    "        if player1_roll > player2_roll:\n",
    "            player1_wins += 1\n",
    "        elif player1_roll < player2_roll:\n",
    "            player2_wins += 1\n",
    "        else:\n",
    "            ties += 1\n",
    "    \n",
    "    # Calculate probabilities\n",
    "    player1_greater4_probability = player1_greater4 / n\n",
    "    player2_greater4_probability = player2_greater4 / n\n",
    "    player1_wins_probability = player1_wins / n\n",
    "    player2_wins_probability = player2_wins / n\n",
    "    ties_probability = ties / n\n",
    "    \n",
    "    # Print the results\n",
    "    print(f\"Results after {n} games: \")\n",
    "    print(f\"Player 1 rolls greater than 4: {round(player1_greater4_probability, 3)} EXPECTED -> {round((2/6), 3)}\")\n",
    "    print(f\"Player 2 rolls greater than 4: {round(player2_greater4_probability, 3)} EXPECTED -> {round((2/6), 3)}\")\n",
    "    print(f\"Player 1 wins: {round(player1_wins_probability, 3)} EXPECTED -> {round(5/12, 3)}\")\n",
    "    print(f\"Player 2 wins: {round(player2_wins_probability, 3)} EXPECTED -> {round(5/12, 3)}\")\n",
    "    print(f\"Ties: {round(ties_probability, 3)} EXPECTED -> {round(1/6, 3)}\")\n",
    "    \n",
    "    # Visualization\n",
    "    labels = [\"Player 1\", \"Tie\", \"Player 2\"]\n",
    "    counts = [player1_wins, ties, player2_wins]\n",
    "    expected_counts = [n * (5/12), n * (1/6), n * (5/12)]\n",
    "    \n",
    "    x = range(len(labels))\n",
    "    \n",
    "    plt.bar(x, counts, width=0.4, label=\"Simulated\", color=['Blue', 'Gray', 'Red'])\n",
    "    plt.bar([i + 0.4 for i in x], expected_counts, width=0.4, label=\"Expected\", color=['Cyan', 'LightGray', 'Pink'])\n",
    "    \n",
    "    plt.title(\"Dice Game Simulator Results\")\n",
    "    plt.xlabel(\"Outcome\")\n",
    "    plt.xticks([i + 0.2 for i in x], labels)\n",
    "    plt.ylabel(\"Count of Outcomes\")\n",
    "    plt.ylim(0, max(max(counts) * 1.1, max(expected_counts) * 1.1))\n",
    "    plt.legend()\n",
    "    plt.show()\n",
    "\n",
    "dice_game(1000)"
   ]
  }
 ],
 "metadata": {
  "kernelspec": {
   "display_name": "base",
   "language": "python",
   "name": "python3"
  },
  "language_info": {
   "codemirror_mode": {
    "name": "ipython",
    "version": 3
   },
   "file_extension": ".py",
   "mimetype": "text/x-python",
   "name": "python",
   "nbconvert_exporter": "python",
   "pygments_lexer": "ipython3",
   "version": "3.12.7"
  }
 },
 "nbformat": 4,
 "nbformat_minor": 2
}
