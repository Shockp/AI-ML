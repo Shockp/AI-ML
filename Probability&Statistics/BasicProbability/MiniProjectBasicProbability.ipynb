{
 "cells": [
  {
   "cell_type": "markdown",
   "metadata": {},
   "source": [
    "#### **Mini-Project: Porbability-Based Dice Game Simulator**\n",
    "##### **Project Objective:**\n",
    "Create a Python program that simulates a dice-based game. The goal is to:\n",
    "\n",
    "1. Simulate multiple rounds of a game where two players roll a die.\n",
    "2. Track and calculate probabilities for different events:\n",
    "    - A player rolls a number greater than 4.\n",
    "    - Both players roll the same number.\n",
    "    - A player wins a round by rolling a higher number than the other.\n",
    "3. Display results and probabilities visually."
   ]
  },
  {
   "cell_type": "markdown",
   "metadata": {},
   "source": [
    "##### **Steps to Implement:**\n",
    "1. Game Rules:\n",
    "    - Two players take turns rolling a 6-sided die.\n",
    "    - The player with the higher roll wins the round.\n",
    "    - If both roll the same number, it's a tie.\n",
    "\n",
    "2. Simulated Events:\n",
    "    - Number of rounds where Player 1 rolls a number > 4.\n",
    "    - Number of rounds where Player 2 rolls a number > 4.\n",
    "    - Number of ties.\n",
    "    - Player 1 wins, Player 2 wins, and the probability of each.\n",
    "\n",
    "3. Output:\n",
    "    - Display probabilities for all events.\n",
    "    - Show a bar chart comparing the frequencies of Player 1 wins, Player 2 wins, and ties.\n",
    "\n",
    "4. Bonus:\n",
    "    - Add options to customize the number of rounds.\n",
    "    - Allow more players to join the game."
   ]
  },
  {
   "cell_type": "code",
   "execution_count": null,
   "metadata": {},
   "outputs": [],
   "source": []
  },
  {
   "cell_type": "code",
   "execution_count": null,
   "metadata": {},
   "outputs": [],
   "source": []
  }
 ],
 "metadata": {
  "kernelspec": {
   "display_name": "base",
   "language": "python",
   "name": "python3"
  },
  "language_info": {
   "name": "python",
   "version": "3.12.7"
  }
 },
 "nbformat": 4,
 "nbformat_minor": 2
}
